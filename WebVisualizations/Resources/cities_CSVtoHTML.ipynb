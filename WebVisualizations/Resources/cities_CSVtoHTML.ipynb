{
 "cells": [
  {
   "cell_type": "code",
   "execution_count": 30,
   "metadata": {},
   "outputs": [],
   "source": [
    "import pandas as pd\n",
    "from datetime import datetime as datetime\n",
    "import datetime\n",
    "import xlrd"
   ]
  },
  {
   "cell_type": "code",
   "execution_count": 61,
   "metadata": {},
   "outputs": [],
   "source": [
    "df = pd.read_csv('./cities.csv')\n",
    "# df = df.set_index('City')\n",
    "df = df[['City','Country','Lat','Lng','Date','Max Temp','Humidity','Wind Speed','Cloudiness']]"
   ]
  },
  {
   "cell_type": "code",
   "execution_count": 31,
   "metadata": {},
   "outputs": [],
   "source": [
    "# def serial2yyyymmdd(serial):\n",
    "#     base = datetime.datetime(1899, 12, 30)\n",
    "#     delta = datetime.timedelta(days=serial)\n",
    "#     tmstamp = str(base+delta)[0:10].replace(\"-\",'')\n",
    "#     return tmstamp"
   ]
  },
  {
   "cell_type": "code",
   "execution_count": 49,
   "metadata": {},
   "outputs": [],
   "source": [
    "# for row in df.iterrows():\n",
    "#     datething = row[1]['Date']\n",
    "#     ack = serial2yyyymmdd(row[1]['Date']/100000)\n",
    "#     print(datething)"
   ]
  },
  {
   "cell_type": "code",
   "execution_count": 62,
   "metadata": {},
   "outputs": [
    {
     "data": {
      "text/plain": [
       "124005"
      ]
     },
     "execution_count": 62,
     "metadata": {},
     "output_type": "execute_result"
    }
   ],
   "source": [
    "\n",
    "html = df.to_html()\n",
    "outfile = open('cities.html','w')\n",
    "outfile.write(html)\n"
   ]
  }
 ],
 "metadata": {
  "kernelspec": {
   "display_name": "Python [conda env:PythonData]",
   "language": "python",
   "name": "conda-env-PythonData-py"
  },
  "language_info": {
   "codemirror_mode": {
    "name": "ipython",
    "version": 3
   },
   "file_extension": ".py",
   "mimetype": "text/x-python",
   "name": "python",
   "nbconvert_exporter": "python",
   "pygments_lexer": "ipython3",
   "version": "3.6.10"
  }
 },
 "nbformat": 4,
 "nbformat_minor": 4
}
